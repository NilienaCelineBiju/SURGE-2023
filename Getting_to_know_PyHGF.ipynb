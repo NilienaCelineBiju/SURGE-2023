{
  "nbformat": 4,
  "nbformat_minor": 0,
  "metadata": {
    "colab": {
      "provenance": [],
      "authorship_tag": "ABX9TyMb679tbZZJVtfXTskFhGI7",
      "include_colab_link": true
    },
    "kernelspec": {
      "name": "python3",
      "display_name": "Python 3"
    },
    "language_info": {
      "name": "python"
    }
  },
  "cells": [
    {
      "cell_type": "markdown",
      "metadata": {
        "id": "view-in-github",
        "colab_type": "text"
      },
      "source": [
        "<a href=\"https://colab.research.google.com/github/NilienaCelineBiju/SURGE-2023/blob/main/Getting_to_know_PyHGF.ipynb\" target=\"_parent\"><img src=\"https://colab.research.google.com/assets/colab-badge.svg\" alt=\"Open In Colab\"/></a>"
      ]
    },
    {
      "cell_type": "code",
      "execution_count": null,
      "metadata": {
        "colab": {
          "base_uri": "https://localhost:8080/"
        },
        "id": "No_3t40MODDD",
        "outputId": "05b6cf85-61d5-44bb-9322-e34c33254b13"
      },
      "outputs": [
        {
          "output_type": "stream",
          "name": "stdout",
          "text": [
            "Collecting pyhgf\n",
            "  Downloading pyhgf-0.0.4-py3-none-any.whl (40 kB)\n",
            "\u001b[?25l     \u001b[90m━━━━━━━━━━━━━━━━━━━━━━━━━━━━━━━━━━━━━━━━\u001b[0m \u001b[32m0.0/40.2 kB\u001b[0m \u001b[31m?\u001b[0m eta \u001b[36m-:--:--\u001b[0m\r\u001b[2K     \u001b[90m━━━━━━━━━━━━━━━━━━━━━━━━━━━━━━━━━━━━━━━━\u001b[0m \u001b[32m40.2/40.2 kB\u001b[0m \u001b[31m4.1 MB/s\u001b[0m eta \u001b[36m0:00:00\u001b[0m\n",
            "\u001b[?25hRequirement already satisfied: numpy<=1.23,>=1.18 in /usr/local/lib/python3.10/dist-packages (from pyhgf) (1.22.4)\n",
            "Requirement already satisfied: numba>=0.56.4 in /usr/local/lib/python3.10/dist-packages (from pyhgf) (0.56.4)\n",
            "Requirement already satisfied: matplotlib>=3.0.2 in /usr/local/lib/python3.10/dist-packages (from pyhgf) (3.7.1)\n",
            "Requirement already satisfied: seaborn>=0.9.0 in /usr/local/lib/python3.10/dist-packages (from pyhgf) (0.12.2)\n",
            "Requirement already satisfied: arviz>=0.12.0 in /usr/local/lib/python3.10/dist-packages (from pyhgf) (0.15.1)\n",
            "Requirement already satisfied: pymc>=5.0.0 in /usr/local/lib/python3.10/dist-packages (from pyhgf) (5.1.2)\n",
            "Requirement already satisfied: jax>=0.4.1 in /usr/local/lib/python3.10/dist-packages (from pyhgf) (0.4.10)\n",
            "Requirement already satisfied: jaxlib>=0.4.1 in /usr/local/lib/python3.10/dist-packages (from pyhgf) (0.4.10+cuda11.cudnn86)\n",
            "Requirement already satisfied: setuptools>=38.4 in /usr/local/lib/python3.10/dist-packages (from pyhgf) (67.7.2)\n",
            "Requirement already satisfied: packaging in /usr/local/lib/python3.10/dist-packages (from pyhgf) (23.1)\n",
            "Requirement already satisfied: scipy>=1.8.0 in /usr/local/lib/python3.10/dist-packages (from arviz>=0.12.0->pyhgf) (1.10.1)\n",
            "Requirement already satisfied: pandas>=1.3.0 in /usr/local/lib/python3.10/dist-packages (from arviz>=0.12.0->pyhgf) (1.5.3)\n",
            "Requirement already satisfied: xarray>=0.21.0 in /usr/local/lib/python3.10/dist-packages (from arviz>=0.12.0->pyhgf) (2022.12.0)\n",
            "Requirement already satisfied: h5netcdf>=1.0.2 in /usr/local/lib/python3.10/dist-packages (from arviz>=0.12.0->pyhgf) (1.2.0)\n",
            "Requirement already satisfied: typing-extensions>=4.1.0 in /usr/local/lib/python3.10/dist-packages (from arviz>=0.12.0->pyhgf) (4.6.3)\n",
            "Requirement already satisfied: xarray-einstats>=0.3 in /usr/local/lib/python3.10/dist-packages (from arviz>=0.12.0->pyhgf) (0.5.1)\n",
            "Requirement already satisfied: ml-dtypes>=0.1.0 in /usr/local/lib/python3.10/dist-packages (from jax>=0.4.1->pyhgf) (0.2.0)\n",
            "Requirement already satisfied: opt-einsum in /usr/local/lib/python3.10/dist-packages (from jax>=0.4.1->pyhgf) (3.3.0)\n",
            "Requirement already satisfied: contourpy>=1.0.1 in /usr/local/lib/python3.10/dist-packages (from matplotlib>=3.0.2->pyhgf) (1.1.0)\n",
            "Requirement already satisfied: cycler>=0.10 in /usr/local/lib/python3.10/dist-packages (from matplotlib>=3.0.2->pyhgf) (0.11.0)\n",
            "Requirement already satisfied: fonttools>=4.22.0 in /usr/local/lib/python3.10/dist-packages (from matplotlib>=3.0.2->pyhgf) (4.40.0)\n",
            "Requirement already satisfied: kiwisolver>=1.0.1 in /usr/local/lib/python3.10/dist-packages (from matplotlib>=3.0.2->pyhgf) (1.4.4)\n",
            "Requirement already satisfied: pillow>=6.2.0 in /usr/local/lib/python3.10/dist-packages (from matplotlib>=3.0.2->pyhgf) (8.4.0)\n",
            "Requirement already satisfied: pyparsing>=2.3.1 in /usr/local/lib/python3.10/dist-packages (from matplotlib>=3.0.2->pyhgf) (3.1.0)\n",
            "Requirement already satisfied: python-dateutil>=2.7 in /usr/local/lib/python3.10/dist-packages (from matplotlib>=3.0.2->pyhgf) (2.8.2)\n",
            "Requirement already satisfied: llvmlite<0.40,>=0.39.0dev0 in /usr/local/lib/python3.10/dist-packages (from numba>=0.56.4->pyhgf) (0.39.1)\n",
            "Requirement already satisfied: cachetools>=4.2.1 in /usr/local/lib/python3.10/dist-packages (from pymc>=5.0.0->pyhgf) (5.3.1)\n",
            "Requirement already satisfied: cloudpickle in /usr/local/lib/python3.10/dist-packages (from pymc>=5.0.0->pyhgf) (2.2.1)\n",
            "Requirement already satisfied: fastprogress>=0.2.0 in /usr/local/lib/python3.10/dist-packages (from pymc>=5.0.0->pyhgf) (1.0.3)\n",
            "Requirement already satisfied: pytensor==2.10.1 in /usr/local/lib/python3.10/dist-packages (from pymc>=5.0.0->pyhgf) (2.10.1)\n",
            "Requirement already satisfied: filelock in /usr/local/lib/python3.10/dist-packages (from pytensor==2.10.1->pymc>=5.0.0->pyhgf) (3.12.2)\n",
            "Requirement already satisfied: etuples in /usr/local/lib/python3.10/dist-packages (from pytensor==2.10.1->pymc>=5.0.0->pyhgf) (0.3.9)\n",
            "Requirement already satisfied: logical-unification in /usr/local/lib/python3.10/dist-packages (from pytensor==2.10.1->pymc>=5.0.0->pyhgf) (0.4.6)\n",
            "Requirement already satisfied: miniKanren in /usr/local/lib/python3.10/dist-packages (from pytensor==2.10.1->pymc>=5.0.0->pyhgf) (1.0.3)\n",
            "Requirement already satisfied: cons in /usr/local/lib/python3.10/dist-packages (from pytensor==2.10.1->pymc>=5.0.0->pyhgf) (0.4.6)\n",
            "Requirement already satisfied: h5py in /usr/local/lib/python3.10/dist-packages (from h5netcdf>=1.0.2->arviz>=0.12.0->pyhgf) (3.8.0)\n",
            "Requirement already satisfied: pytz>=2020.1 in /usr/local/lib/python3.10/dist-packages (from pandas>=1.3.0->arviz>=0.12.0->pyhgf) (2022.7.1)\n",
            "Requirement already satisfied: six>=1.5 in /usr/local/lib/python3.10/dist-packages (from python-dateutil>=2.7->matplotlib>=3.0.2->pyhgf) (1.16.0)\n",
            "Requirement already satisfied: toolz in /usr/local/lib/python3.10/dist-packages (from logical-unification->pytensor==2.10.1->pymc>=5.0.0->pyhgf) (0.12.0)\n",
            "Requirement already satisfied: multipledispatch in /usr/local/lib/python3.10/dist-packages (from logical-unification->pytensor==2.10.1->pymc>=5.0.0->pyhgf) (0.6.0)\n",
            "Installing collected packages: pyhgf\n",
            "Successfully installed pyhgf-0.0.4\n"
          ]
        }
      ],
      "source": [
        "!pip install pyhgf"
      ]
    },
    {
      "cell_type": "code",
      "source": [
        "from pyhgf.typing import Indexes\n",
        "parameters = {\"mu\": 0.0, \"pi\": 1.0}\n",
        "\n",
        "from pyhgf.model import HGF\n",
        "\n",
        "custom_hgf = (\n",
        "    HGF(model_type=None)\n",
        "    .add_input_node(kind=\"binary\")\n",
        "    .add_value_parent(children_idxs=[0])\n",
        "    .add_value_parent(children_idxs=[1])\n",
        "    .add_volatility_parent(children_idxs=[1])\n",
        ")\n",
        "custom_hgf.plot_network()"
      ],
      "metadata": {
        "colab": {
          "base_uri": "https://localhost:8080/",
          "height": 368
        },
        "id": "qWzV5jiqOGcH",
        "outputId": "1ea1b284-d260-470d-a613-abafc9ba6a9e"
      },
      "execution_count": null,
      "outputs": [
        {
          "output_type": "execute_result",
          "data": {
            "image/svg+xml": "<?xml version=\"1.0\" encoding=\"UTF-8\" standalone=\"no\"?>\n<!DOCTYPE svg PUBLIC \"-//W3C//DTD SVG 1.1//EN\"\n \"http://www.w3.org/Graphics/SVG/1.1/DTD/svg11.dtd\">\n<!-- Generated by graphviz version 2.43.0 (0)\n -->\n<!-- Title: hgf&#45;nodes Pages: 1 -->\n<svg width=\"90pt\" height=\"260pt\"\n viewBox=\"0.00 0.00 90.00 260.00\" xmlns=\"http://www.w3.org/2000/svg\" xmlns:xlink=\"http://www.w3.org/1999/xlink\">\n<g id=\"graph0\" class=\"graph\" transform=\"scale(1 1) rotate(0) translate(4 256)\">\n<title>hgf&#45;nodes</title>\n<polygon fill=\"white\" stroke=\"transparent\" points=\"-4,4 -4,-256 86,-256 86,4 -4,4\"/>\n<!-- x_0 -->\n<g id=\"node1\" class=\"node\">\n<title>x_0</title>\n<polygon fill=\"lightgrey\" stroke=\"black\" points=\"75.44,-10.54 75.44,-25.46 55.27,-36 26.73,-36 6.56,-25.46 6.56,-10.54 26.73,0 55.27,0 75.44,-10.54\"/>\n<text text-anchor=\"middle\" x=\"41\" y=\"-14.3\" font-family=\"Times,serif\" font-size=\"14.00\">BI &#45; 0</text>\n</g>\n<!-- x_1 -->\n<g id=\"node2\" class=\"node\">\n<title>x_1</title>\n<ellipse fill=\"none\" stroke=\"black\" cx=\"41\" cy=\"-90\" rx=\"18\" ry=\"18\"/>\n<text text-anchor=\"middle\" x=\"41\" y=\"-86.3\" font-family=\"Times,serif\" font-size=\"14.00\">1</text>\n</g>\n<!-- x_1&#45;&gt;x_0 -->\n<g id=\"edge1\" class=\"edge\">\n<title>x_1&#45;&gt;x_0</title>\n<path fill=\"none\" stroke=\"black\" d=\"M41,-71.7C41,-63.98 41,-54.71 41,-46.11\"/>\n<polygon fill=\"black\" stroke=\"black\" points=\"44.5,-46.1 41,-36.1 37.5,-46.1 44.5,-46.1\"/>\n</g>\n<!-- x_2 -->\n<g id=\"node3\" class=\"node\">\n<title>x_2</title>\n<ellipse fill=\"none\" stroke=\"black\" cx=\"18\" cy=\"-162\" rx=\"18\" ry=\"18\"/>\n<text text-anchor=\"middle\" x=\"18\" y=\"-158.3\" font-family=\"Times,serif\" font-size=\"14.00\">2</text>\n</g>\n<!-- x_2&#45;&gt;x_1 -->\n<g id=\"edge2\" class=\"edge\">\n<title>x_2&#45;&gt;x_1</title>\n<path fill=\"none\" stroke=\"black\" d=\"M23.33,-144.76C26.02,-136.58 29.35,-126.45 32.39,-117.2\"/>\n<polygon fill=\"black\" stroke=\"black\" points=\"35.74,-118.23 35.53,-107.63 29.09,-116.04 35.74,-118.23\"/>\n</g>\n<!-- x_3 -->\n<g id=\"node4\" class=\"node\">\n<title>x_3</title>\n<ellipse fill=\"none\" stroke=\"black\" cx=\"64\" cy=\"-234\" rx=\"18\" ry=\"18\"/>\n<text text-anchor=\"middle\" x=\"64\" y=\"-230.3\" font-family=\"Times,serif\" font-size=\"14.00\">3</text>\n</g>\n<!-- x_3&#45;&gt;x_1 -->\n<g id=\"edge3\" class=\"edge\">\n<title>x_3&#45;&gt;x_1</title>\n<path fill=\"none\" stroke=\"gray\" stroke-dasharray=\"5,2\" d=\"M61.27,-216.15C57.24,-191.28 49.68,-144.57 45.01,-115.79\"/>\n<ellipse fill=\"gray\" stroke=\"gray\" cx=\"44.36\" cy=\"-111.77\" rx=\"4\" ry=\"4\"/>\n</g>\n</g>\n</svg>\n",
            "text/plain": [
              "<graphviz.sources.Source at 0x7f8b4ec039a0>"
            ]
          },
          "metadata": {},
          "execution_count": 3
        }
      ]
    },
    {
      "cell_type": "code",
      "source": [
        "from pyhgf.typing import Indexes\n",
        "from pyhgf.model import HGF\n",
        "\n",
        "parameters = {\"mu\": 0.0, \"pi\": 1.0}\n",
        "\n",
        "parameters_structure = (parameters, parameters, parameters)\n",
        "node_structure = (\n",
        "    Indexes((1,2), None),\n",
        "    Indexes((2,), (1,)),\n",
        "    Indexes((1,), (2,)),\n",
        ")\n",
        "c_hgf = HGF(model_type= \"binary\")\n",
        "c_hgf.node_structure = node_structure\n",
        "c_hgf.parameters_structure = parameters_structure\n",
        "\n",
        "c_hgf.plot_network()"
      ],
      "metadata": {
        "colab": {
          "base_uri": "https://localhost:8080/",
          "height": 290
        },
        "id": "pj5Bh1BmPG8I",
        "outputId": "bcf39a5e-d118-4595-fc3b-0f3f3f4b0b67"
      },
      "execution_count": null,
      "outputs": [
        {
          "output_type": "stream",
          "name": "stdout",
          "text": [
            "Creating a binary Hierarchical Gaussian Filter with 2 levels.\n"
          ]
        },
        {
          "output_type": "execute_result",
          "data": {
            "image/svg+xml": "<?xml version=\"1.0\" encoding=\"UTF-8\" standalone=\"no\"?>\n<!DOCTYPE svg PUBLIC \"-//W3C//DTD SVG 1.1//EN\"\n \"http://www.w3.org/Graphics/SVG/1.1/DTD/svg11.dtd\">\n<!-- Generated by graphviz version 2.43.0 (0)\n -->\n<!-- Title: hgf&#45;nodes Pages: 1 -->\n<svg width=\"101pt\" height=\"188pt\"\n viewBox=\"0.00 0.00 101.47 188.00\" xmlns=\"http://www.w3.org/2000/svg\" xmlns:xlink=\"http://www.w3.org/1999/xlink\">\n<g id=\"graph0\" class=\"graph\" transform=\"scale(1 1) rotate(0) translate(4 184)\">\n<title>hgf&#45;nodes</title>\n<polygon fill=\"white\" stroke=\"transparent\" points=\"-4,4 -4,-184 97.47,-184 97.47,4 -4,4\"/>\n<!-- x_0 -->\n<g id=\"node1\" class=\"node\">\n<title>x_0</title>\n<polygon fill=\"lightgrey\" stroke=\"black\" points=\"68.91,-10.54 68.91,-25.46 48.74,-36 20.2,-36 0.03,-25.46 0.03,-10.54 20.2,0 48.74,0 68.91,-10.54\"/>\n<text text-anchor=\"middle\" x=\"34.47\" y=\"-14.3\" font-family=\"Times,serif\" font-size=\"14.00\">BI &#45; 0</text>\n</g>\n<!-- x_1 -->\n<g id=\"node2\" class=\"node\">\n<title>x_1</title>\n<ellipse fill=\"none\" stroke=\"black\" cx=\"57.47\" cy=\"-162\" rx=\"18\" ry=\"18\"/>\n<text text-anchor=\"middle\" x=\"57.47\" y=\"-158.3\" font-family=\"Times,serif\" font-size=\"14.00\">1</text>\n</g>\n<!-- x_1&#45;&gt;x_0 -->\n<g id=\"edge1\" class=\"edge\">\n<title>x_1&#45;&gt;x_0</title>\n<path fill=\"none\" stroke=\"black\" d=\"M47.67,-146.43C41.38,-136.18 33.8,-121.86 30.47,-108 25.61,-87.73 26.97,-64.13 29.36,-46.33\"/>\n<polygon fill=\"black\" stroke=\"black\" points=\"32.83,-46.75 30.88,-36.33 25.91,-45.69 32.83,-46.75\"/>\n</g>\n<!-- x_1&#45;&gt;x_1 -->\n<g id=\"edge2\" class=\"edge\">\n<title>x_1&#45;&gt;x_1</title>\n<path fill=\"none\" stroke=\"gray\" stroke-dasharray=\"5,2\" d=\"M71.51,-173.76C82.38,-178.15 93.47,-174.23 93.47,-162 93.47,-152.82 87.23,-148.33 79.53,-148.51\"/>\n<ellipse fill=\"gray\" stroke=\"gray\" cx=\"75.42\" cy=\"-149.4\" rx=\"4\" ry=\"4\"/>\n</g>\n<!-- x_2 -->\n<g id=\"node3\" class=\"node\">\n<title>x_2</title>\n<ellipse fill=\"none\" stroke=\"black\" cx=\"57.47\" cy=\"-90\" rx=\"18\" ry=\"18\"/>\n<text text-anchor=\"middle\" x=\"57.47\" y=\"-86.3\" font-family=\"Times,serif\" font-size=\"14.00\">2</text>\n</g>\n<!-- x_1&#45;&gt;x_2 -->\n<g id=\"edge3\" class=\"edge\">\n<title>x_1&#45;&gt;x_2</title>\n<path fill=\"none\" stroke=\"black\" d=\"M51.67,-144.76C50.76,-136.64 50.5,-126.59 50.91,-117.39\"/>\n<polygon fill=\"black\" stroke=\"black\" points=\"54.42,-117.38 51.68,-107.15 47.44,-116.86 54.42,-117.38\"/>\n</g>\n<!-- x_2&#45;&gt;x_0 -->\n<g id=\"edge4\" class=\"edge\">\n<title>x_2&#45;&gt;x_0</title>\n<path fill=\"none\" stroke=\"black\" d=\"M52.14,-72.76C49.51,-64.78 46.28,-54.95 43.31,-45.89\"/>\n<polygon fill=\"black\" stroke=\"black\" points=\"46.54,-44.53 40.1,-36.12 39.89,-46.72 46.54,-44.53\"/>\n</g>\n<!-- x_2&#45;&gt;x_1 -->\n<g id=\"edge5\" class=\"edge\">\n<title>x_2&#45;&gt;x_1</title>\n<path fill=\"none\" stroke=\"black\" d=\"M63.26,-107.15C64.18,-115.26 64.44,-125.3 64.04,-134.51\"/>\n<polygon fill=\"black\" stroke=\"black\" points=\"60.53,-134.53 63.27,-144.76 67.51,-135.05 60.53,-134.53\"/>\n</g>\n<!-- x_2&#45;&gt;x_2 -->\n<g id=\"edge6\" class=\"edge\">\n<title>x_2&#45;&gt;x_2</title>\n<path fill=\"none\" stroke=\"gray\" stroke-dasharray=\"5,2\" d=\"M71.51,-101.76C82.38,-106.15 93.47,-102.23 93.47,-90 93.47,-80.82 87.23,-76.33 79.53,-76.51\"/>\n<ellipse fill=\"gray\" stroke=\"gray\" cx=\"75.42\" cy=\"-77.4\" rx=\"4\" ry=\"4\"/>\n</g>\n</g>\n</svg>\n",
            "text/plain": [
              "<graphviz.sources.Source at 0x7f01893ebc10>"
            ]
          },
          "metadata": {},
          "execution_count": 25
        }
      ]
    },
    {
      "cell_type": "code",
      "source": [
        "c_hgf.node_trajectories"
      ],
      "metadata": {
        "colab": {
          "base_uri": "https://localhost:8080/",
          "height": 165
        },
        "id": "RKrwznOn4ifW",
        "outputId": "5416f32e-4511-4c7d-fd16-f30d117b6136"
      },
      "execution_count": null,
      "outputs": [
        {
          "output_type": "error",
          "ename": "AttributeError",
          "evalue": "ignored",
          "traceback": [
            "\u001b[0;31m---------------------------------------------------------------------------\u001b[0m",
            "\u001b[0;31mAttributeError\u001b[0m                            Traceback (most recent call last)",
            "\u001b[0;32m<ipython-input-8-4dcbaa529715>\u001b[0m in \u001b[0;36m<cell line: 1>\u001b[0;34m()\u001b[0m\n\u001b[0;32m----> 1\u001b[0;31m \u001b[0mc_hgf\u001b[0m\u001b[0;34m.\u001b[0m\u001b[0mnode_trajectories\u001b[0m\u001b[0;34m\u001b[0m\u001b[0;34m\u001b[0m\u001b[0m\n\u001b[0m",
            "\u001b[0;31mAttributeError\u001b[0m: 'HGF' object has no attribute 'node_trajectories'"
          ]
        }
      ]
    },
    {
      "cell_type": "code",
      "source": [
        "dir(c_hgf)"
      ],
      "metadata": {
        "colab": {
          "base_uri": "https://localhost:8080/"
        },
        "id": "MGKURZF241iw",
        "outputId": "758e6918-a5be-44bf-cd2e-720f4f4c6302"
      },
      "execution_count": null,
      "outputs": [
        {
          "output_type": "execute_result",
          "data": {
            "text/plain": [
              "['__class__',\n",
              " '__delattr__',\n",
              " '__dict__',\n",
              " '__dir__',\n",
              " '__doc__',\n",
              " '__eq__',\n",
              " '__format__',\n",
              " '__ge__',\n",
              " '__getattribute__',\n",
              " '__gt__',\n",
              " '__hash__',\n",
              " '__init__',\n",
              " '__init_subclass__',\n",
              " '__le__',\n",
              " '__lt__',\n",
              " '__module__',\n",
              " '__ne__',\n",
              " '__new__',\n",
              " '__reduce__',\n",
              " '__reduce_ex__',\n",
              " '__repr__',\n",
              " '__setattr__',\n",
              " '__sizeof__',\n",
              " '__str__',\n",
              " '__subclasshook__',\n",
              " '__weakref__',\n",
              " 'add_input_node',\n",
              " 'add_value_parent',\n",
              " 'add_volatility_parent',\n",
              " 'get_update_sequence',\n",
              " 'input_data',\n",
              " 'input_nodes_idx',\n",
              " 'model_type',\n",
              " 'n_levels',\n",
              " 'node_structure',\n",
              " 'parameters_structure',\n",
              " 'plot_correlations',\n",
              " 'plot_network',\n",
              " 'plot_trajectories',\n",
              " 'surprise',\n",
              " 'to_pandas',\n",
              " 'update_sequence',\n",
              " 'verbose']"
            ]
          },
          "metadata": {},
          "execution_count": 9
        }
      ]
    },
    {
      "cell_type": "code",
      "source": [
        "import pyhgf\n",
        "pyhgf.__version__"
      ],
      "metadata": {
        "colab": {
          "base_uri": "https://localhost:8080/",
          "height": 36
        },
        "id": "kv5Dr_Ro61UV",
        "outputId": "7d58a375-55e4-4b22-b3ed-53992285ea98"
      },
      "execution_count": null,
      "outputs": [
        {
          "output_type": "execute_result",
          "data": {
            "text/plain": [
              "'0.0.4'"
            ],
            "application/vnd.google.colaboratory.intrinsic+json": {
              "type": "string"
            }
          },
          "metadata": {},
          "execution_count": 12
        }
      ]
    },
    {
      "cell_type": "code",
      "source": [
        "from google.colab import files\n",
        "uploaded = files.upload()"
      ],
      "metadata": {
        "colab": {
          "base_uri": "https://localhost:8080/",
          "height": 73
        },
        "id": "kqoEVjqQ7UDP",
        "outputId": "1bbf3af1-cd6c-479f-ee08-8e39133de9e1"
      },
      "execution_count": null,
      "outputs": [
        {
          "output_type": "display_data",
          "data": {
            "text/plain": [
              "<IPython.core.display.HTML object>"
            ],
            "text/html": [
              "\n",
              "     <input type=\"file\" id=\"files-fefbee88-ad6d-4097-a1c4-2cac96d886f9\" name=\"files[]\" multiple disabled\n",
              "        style=\"border:none\" />\n",
              "     <output id=\"result-fefbee88-ad6d-4097-a1c4-2cac96d886f9\">\n",
              "      Upload widget is only available when the cell has been executed in the\n",
              "      current browser session. Please rerun this cell to enable.\n",
              "      </output>\n",
              "      <script>// Copyright 2017 Google LLC\n",
              "//\n",
              "// Licensed under the Apache License, Version 2.0 (the \"License\");\n",
              "// you may not use this file except in compliance with the License.\n",
              "// You may obtain a copy of the License at\n",
              "//\n",
              "//      http://www.apache.org/licenses/LICENSE-2.0\n",
              "//\n",
              "// Unless required by applicable law or agreed to in writing, software\n",
              "// distributed under the License is distributed on an \"AS IS\" BASIS,\n",
              "// WITHOUT WARRANTIES OR CONDITIONS OF ANY KIND, either express or implied.\n",
              "// See the License for the specific language governing permissions and\n",
              "// limitations under the License.\n",
              "\n",
              "/**\n",
              " * @fileoverview Helpers for google.colab Python module.\n",
              " */\n",
              "(function(scope) {\n",
              "function span(text, styleAttributes = {}) {\n",
              "  const element = document.createElement('span');\n",
              "  element.textContent = text;\n",
              "  for (const key of Object.keys(styleAttributes)) {\n",
              "    element.style[key] = styleAttributes[key];\n",
              "  }\n",
              "  return element;\n",
              "}\n",
              "\n",
              "// Max number of bytes which will be uploaded at a time.\n",
              "const MAX_PAYLOAD_SIZE = 100 * 1024;\n",
              "\n",
              "function _uploadFiles(inputId, outputId) {\n",
              "  const steps = uploadFilesStep(inputId, outputId);\n",
              "  const outputElement = document.getElementById(outputId);\n",
              "  // Cache steps on the outputElement to make it available for the next call\n",
              "  // to uploadFilesContinue from Python.\n",
              "  outputElement.steps = steps;\n",
              "\n",
              "  return _uploadFilesContinue(outputId);\n",
              "}\n",
              "\n",
              "// This is roughly an async generator (not supported in the browser yet),\n",
              "// where there are multiple asynchronous steps and the Python side is going\n",
              "// to poll for completion of each step.\n",
              "// This uses a Promise to block the python side on completion of each step,\n",
              "// then passes the result of the previous step as the input to the next step.\n",
              "function _uploadFilesContinue(outputId) {\n",
              "  const outputElement = document.getElementById(outputId);\n",
              "  const steps = outputElement.steps;\n",
              "\n",
              "  const next = steps.next(outputElement.lastPromiseValue);\n",
              "  return Promise.resolve(next.value.promise).then((value) => {\n",
              "    // Cache the last promise value to make it available to the next\n",
              "    // step of the generator.\n",
              "    outputElement.lastPromiseValue = value;\n",
              "    return next.value.response;\n",
              "  });\n",
              "}\n",
              "\n",
              "/**\n",
              " * Generator function which is called between each async step of the upload\n",
              " * process.\n",
              " * @param {string} inputId Element ID of the input file picker element.\n",
              " * @param {string} outputId Element ID of the output display.\n",
              " * @return {!Iterable<!Object>} Iterable of next steps.\n",
              " */\n",
              "function* uploadFilesStep(inputId, outputId) {\n",
              "  const inputElement = document.getElementById(inputId);\n",
              "  inputElement.disabled = false;\n",
              "\n",
              "  const outputElement = document.getElementById(outputId);\n",
              "  outputElement.innerHTML = '';\n",
              "\n",
              "  const pickedPromise = new Promise((resolve) => {\n",
              "    inputElement.addEventListener('change', (e) => {\n",
              "      resolve(e.target.files);\n",
              "    });\n",
              "  });\n",
              "\n",
              "  const cancel = document.createElement('button');\n",
              "  inputElement.parentElement.appendChild(cancel);\n",
              "  cancel.textContent = 'Cancel upload';\n",
              "  const cancelPromise = new Promise((resolve) => {\n",
              "    cancel.onclick = () => {\n",
              "      resolve(null);\n",
              "    };\n",
              "  });\n",
              "\n",
              "  // Wait for the user to pick the files.\n",
              "  const files = yield {\n",
              "    promise: Promise.race([pickedPromise, cancelPromise]),\n",
              "    response: {\n",
              "      action: 'starting',\n",
              "    }\n",
              "  };\n",
              "\n",
              "  cancel.remove();\n",
              "\n",
              "  // Disable the input element since further picks are not allowed.\n",
              "  inputElement.disabled = true;\n",
              "\n",
              "  if (!files) {\n",
              "    return {\n",
              "      response: {\n",
              "        action: 'complete',\n",
              "      }\n",
              "    };\n",
              "  }\n",
              "\n",
              "  for (const file of files) {\n",
              "    const li = document.createElement('li');\n",
              "    li.append(span(file.name, {fontWeight: 'bold'}));\n",
              "    li.append(span(\n",
              "        `(${file.type || 'n/a'}) - ${file.size} bytes, ` +\n",
              "        `last modified: ${\n",
              "            file.lastModifiedDate ? file.lastModifiedDate.toLocaleDateString() :\n",
              "                                    'n/a'} - `));\n",
              "    const percent = span('0% done');\n",
              "    li.appendChild(percent);\n",
              "\n",
              "    outputElement.appendChild(li);\n",
              "\n",
              "    const fileDataPromise = new Promise((resolve) => {\n",
              "      const reader = new FileReader();\n",
              "      reader.onload = (e) => {\n",
              "        resolve(e.target.result);\n",
              "      };\n",
              "      reader.readAsArrayBuffer(file);\n",
              "    });\n",
              "    // Wait for the data to be ready.\n",
              "    let fileData = yield {\n",
              "      promise: fileDataPromise,\n",
              "      response: {\n",
              "        action: 'continue',\n",
              "      }\n",
              "    };\n",
              "\n",
              "    // Use a chunked sending to avoid message size limits. See b/62115660.\n",
              "    let position = 0;\n",
              "    do {\n",
              "      const length = Math.min(fileData.byteLength - position, MAX_PAYLOAD_SIZE);\n",
              "      const chunk = new Uint8Array(fileData, position, length);\n",
              "      position += length;\n",
              "\n",
              "      const base64 = btoa(String.fromCharCode.apply(null, chunk));\n",
              "      yield {\n",
              "        response: {\n",
              "          action: 'append',\n",
              "          file: file.name,\n",
              "          data: base64,\n",
              "        },\n",
              "      };\n",
              "\n",
              "      let percentDone = fileData.byteLength === 0 ?\n",
              "          100 :\n",
              "          Math.round((position / fileData.byteLength) * 100);\n",
              "      percent.textContent = `${percentDone}% done`;\n",
              "\n",
              "    } while (position < fileData.byteLength);\n",
              "  }\n",
              "\n",
              "  // All done.\n",
              "  yield {\n",
              "    response: {\n",
              "      action: 'complete',\n",
              "    }\n",
              "  };\n",
              "}\n",
              "\n",
              "scope.google = scope.google || {};\n",
              "scope.google.colab = scope.google.colab || {};\n",
              "scope.google.colab._files = {\n",
              "  _uploadFiles,\n",
              "  _uploadFilesContinue,\n",
              "};\n",
              "})(self);\n",
              "</script> "
            ]
          },
          "metadata": {}
        },
        {
          "output_type": "stream",
          "name": "stdout",
          "text": [
            "Saving Ankit Tripathi_Perceptual Task_2022-06-27_13h18.28.674.csv to Ankit Tripathi_Perceptual Task_2022-06-27_13h18.28.674.csv\n"
          ]
        }
      ]
    },
    {
      "cell_type": "code",
      "source": [
        "import numpy as np\n",
        "import pandas as pd\n",
        "\n",
        "import io\n",
        "df2 = pd.read_csv(io.BytesIO(uploaded['Ankit Tripathi_Perceptual Task_2022-06-27_13h18.28.674.csv']))\n",
        "\n",
        "response = df2['accuracy'].to_numpy()\n",
        "response"
      ],
      "metadata": {
        "colab": {
          "base_uri": "https://localhost:8080/"
        },
        "id": "-N8tMQ8-71gd",
        "outputId": "1676a63f-2544-4201-aa62-7d8ff563b156"
      },
      "execution_count": null,
      "outputs": [
        {
          "output_type": "execute_result",
          "data": {
            "text/plain": [
              "array([0, 0, 0, 0, 0, 1, 0, 0, 0, 1, 0, 0, 1, 0, 0, 0, 0, 0, 0, 0, 1, 0,\n",
              "       0, 0, 1, 0, 0, 0, 0, 1, 0, 0, 0, 1, 0, 1, 0, 1, 0, 0, 1, 0, 0, 0,\n",
              "       0, 0, 1, 0, 0, 1, 0, 0, 0, 0, 0, 1, 0, 0, 1, 0, 0, 0, 0, 0, 1, 0,\n",
              "       0, 0, 0, 0, 0, 0, 0, 0, 1, 0, 0, 0, 0, 0, 0, 1, 0, 0, 0, 0, 0, 0,\n",
              "       1, 0, 1, 0, 1, 0, 0, 0, 0, 0, 0, 0, 1, 1, 0, 0, 0, 0, 0, 0, 0, 0,\n",
              "       0, 0, 0, 0, 0, 0, 0, 0, 0, 0, 0, 0, 0, 0, 0, 0, 0, 0, 1, 0, 0, 0,\n",
              "       0, 0, 0, 0, 0, 0, 0, 0, 0, 1, 0, 0, 0, 0, 0, 0, 0, 0, 0, 0, 0, 0,\n",
              "       0, 0, 1, 0, 0, 0, 1, 0, 0, 0, 0, 1, 0, 0, 1, 0, 0, 0, 0, 0, 0, 0,\n",
              "       0, 0, 0, 0, 0, 0, 0, 0, 0, 0, 0, 0, 0, 1, 0, 0, 0, 0, 0, 0, 1, 0,\n",
              "       0, 0, 0, 1, 0, 0, 0, 0, 0, 0, 0, 0, 0, 0, 0, 0, 0, 0, 0, 0, 0, 0,\n",
              "       1, 0, 0, 0, 0, 0, 0, 0, 1, 0, 0, 0, 0, 0, 0, 1, 0, 0, 0, 0])"
            ]
          },
          "metadata": {},
          "execution_count": 18
        }
      ]
    },
    {
      "cell_type": "code",
      "source": [
        "p_s = ({'mu': 0.0, 'pi': 1.0, 'pihat': 1.0}, {'mu': 0.0, 'pi': 1.0, 'pihat': 1.0}, {'mu': 0.0, 'pi': 1.0, 'pihat': 1.0})\n",
        "\n",
        "c_hgf.parameters_structure = p_s\n",
        "\n",
        "c_hgf.parameters_structure"
      ],
      "metadata": {
        "colab": {
          "base_uri": "https://localhost:8080/"
        },
        "id": "6ABrtavK8Wcv",
        "outputId": "88d57d24-babf-4950-fc25-f1a045062198"
      },
      "execution_count": null,
      "outputs": [
        {
          "output_type": "execute_result",
          "data": {
            "text/plain": [
              "({'mu': 0.0, 'pi': 1.0, 'pihat': 1.0},\n",
              " {'mu': 0.0, 'pi': 1.0, 'pihat': 1.0},\n",
              " {'mu': 0.0, 'pi': 1.0, 'pihat': 1.0})"
            ]
          },
          "metadata": {},
          "execution_count": 21
        }
      ]
    },
    {
      "cell_type": "code",
      "source": [],
      "metadata": {
        "id": "l2kag_d0KROC"
      },
      "execution_count": null,
      "outputs": []
    }
  ]
}